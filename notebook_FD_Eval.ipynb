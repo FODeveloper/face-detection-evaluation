{
  "nbformat": 4,
  "nbformat_minor": 0,
  "metadata": {
    "accelerator": "GPU",
    "colab": {
      "name": "notebook-FD-Eval",
      "provenance": [],
      "collapsed_sections": [
        "Vk1BmIRUMOkn"
      ],
      "toc_visible": true,
      "machine_shape": "hm",
      "include_colab_link": true
    },
    "kernelspec": {
      "display_name": "Python 3",
      "name": "python3"
    }
  },
  "cells": [
    {
      "cell_type": "markdown",
      "metadata": {
        "id": "view-in-github",
        "colab_type": "text"
      },
      "source": [
        "<a href=\"https://colab.research.google.com/github/fatehOurghi/face-detection-evaluation/blob/main/notebook_FD_Eval.ipynb\" target=\"_parent\"><img src=\"https://colab.research.google.com/assets/colab-badge.svg\" alt=\"Open In Colab\"/></a>"
      ]
    },
    {
      "cell_type": "markdown",
      "metadata": {
        "id": "AvRA8rWL9-ln"
      },
      "source": [
        "# Evaluation of face detection algorithms"
      ]
    },
    {
      "cell_type": "markdown",
      "metadata": {
        "id": "5fCEDCU_qrC0"
      },
      "source": [
        "This colab notebook will be used to evaluate different face detection algorithms including:\n",
        "1.   TinaFace (best of Wider Face)\n",
        "2.   DSFD (best of FDDB)\n",
        "3.   SRN (best of Pascal Face)\n",
        "---\n",
        "Datasets used in this evaluation are:\n",
        "*   Wider Face\n",
        "*   FDDB\n",
        "*   Pascal Face"
      ]
    },
    {
      "cell_type": "markdown",
      "metadata": {
        "id": "7zK8UYp9Hplf"
      },
      "source": [
        "**Machine configurations**"
      ]
    },
    {
      "cell_type": "code",
      "metadata": {
        "colab": {
          "base_uri": "https://localhost:8080/"
        },
        "id": "BeMYPWVjHvvQ",
        "outputId": "d55cc5c3-e6bb-45ca-8209-1dff82db1c0b"
      },
      "source": [
        "!nvidia-smi"
      ],
      "execution_count": null,
      "outputs": [
        {
          "output_type": "stream",
          "text": [
            "Mon Mar 15 06:32:18 2021       \n",
            "+-----------------------------------------------------------------------------+\n",
            "| NVIDIA-SMI 460.56       Driver Version: 460.32.03    CUDA Version: 11.2     |\n",
            "|-------------------------------+----------------------+----------------------+\n",
            "| GPU  Name        Persistence-M| Bus-Id        Disp.A | Volatile Uncorr. ECC |\n",
            "| Fan  Temp  Perf  Pwr:Usage/Cap|         Memory-Usage | GPU-Util  Compute M. |\n",
            "|                               |                      |               MIG M. |\n",
            "|===============================+======================+======================|\n",
            "|   0  Tesla V100-SXM2...  Off  | 00000000:00:04.0 Off |                    0 |\n",
            "| N/A   34C    P0    25W / 300W |      0MiB / 16160MiB |      0%      Default |\n",
            "|                               |                      |                  N/A |\n",
            "+-------------------------------+----------------------+----------------------+\n",
            "                                                                               \n",
            "+-----------------------------------------------------------------------------+\n",
            "| Processes:                                                                  |\n",
            "|  GPU   GI   CI        PID   Type   Process name                  GPU Memory |\n",
            "|        ID   ID                                                   Usage      |\n",
            "|=============================================================================|\n",
            "|  No running processes found                                                 |\n",
            "+-----------------------------------------------------------------------------+\n"
          ],
          "name": "stdout"
        }
      ]
    },
    {
      "cell_type": "markdown",
      "metadata": {
        "id": "Lw0ZuRArzJ5G"
      },
      "source": [
        "# Mount google drive"
      ]
    },
    {
      "cell_type": "code",
      "metadata": {
        "colab": {
          "base_uri": "https://localhost:8080/"
        },
        "id": "0PYtevgXGdch",
        "outputId": "ec4b4e68-9160-44ee-b773-931f11a54313"
      },
      "source": [
        "from google.colab import drive\n",
        "drive.mount('/content/drive')"
      ],
      "execution_count": 1,
      "outputs": [
        {
          "output_type": "stream",
          "text": [
            "Mounted at /content/drive\n"
          ],
          "name": "stdout"
        }
      ]
    },
    {
      "cell_type": "markdown",
      "metadata": {
        "id": "YBh1etidm0Wv"
      },
      "source": [
        "# Prepare algorithms"
      ]
    },
    {
      "cell_type": "markdown",
      "metadata": {
        "id": "TE-J0ae0m-ok"
      },
      "source": [
        "**DSFD**"
      ]
    },
    {
      "cell_type": "code",
      "metadata": {
        "colab": {
          "base_uri": "https://localhost:8080/"
        },
        "id": "nnbbLv4onAy6",
        "outputId": "678c20ac-ebf8-4178-9c7c-d732e00cdfbb"
      },
      "source": [
        "# install face_detection framework\r\n",
        "!pip install face-detection"
      ],
      "execution_count": 11,
      "outputs": [
        {
          "output_type": "stream",
          "text": [
            "Collecting face-detection\n",
            "  Downloading https://files.pythonhosted.org/packages/3c/ea/5e9af51646c5d7702c5223eb970b3b870c1de194260f9d6f61f9818bfe91/face_detection-0.2.1.tar.gz\n",
            "Requirement already satisfied: torch>=1.6 in /usr/local/lib/python3.7/dist-packages (from face-detection) (1.8.0+cu101)\n",
            "Requirement already satisfied: torchvision>=0.3.0 in /usr/local/lib/python3.7/dist-packages (from face-detection) (0.9.0+cu101)\n",
            "Requirement already satisfied: numpy in /usr/local/lib/python3.7/dist-packages (from face-detection) (1.19.5)\n",
            "Requirement already satisfied: typing-extensions in /usr/local/lib/python3.7/dist-packages (from torch>=1.6->face-detection) (3.7.4.3)\n",
            "Requirement already satisfied: pillow>=4.1.1 in /usr/local/lib/python3.7/dist-packages (from torchvision>=0.3.0->face-detection) (7.0.0)\n",
            "Building wheels for collected packages: face-detection\n",
            "  Building wheel for face-detection (setup.py) ... \u001b[?25l\u001b[?25hdone\n",
            "  Created wheel for face-detection: filename=face_detection-0.2.1-cp37-none-any.whl size=21404 sha256=bf09fb4ac6074ea9a5125c8fa48266bb4555601362a3eff321da0ccf578c8712\n",
            "  Stored in directory: /root/.cache/pip/wheels/7d/45/54/d117d6cc260f31a22d15cda860ff46325af314cac687848ab7\n",
            "Successfully built face-detection\n",
            "Installing collected packages: face-detection\n",
            "Successfully installed face-detection-0.2.1\n"
          ],
          "name": "stdout"
        }
      ]
    },
    {
      "cell_type": "code",
      "metadata": {
        "id": "lbmDidKbnFr6"
      },
      "source": [
        "# imports\r\n",
        "import cv2\r\n",
        "import face_detection\r\n",
        "import time\r\n",
        "import os\r\n",
        "import json\r\n",
        "from google.colab.patches import cv2_imshow"
      ],
      "execution_count": 12,
      "outputs": []
    },
    {
      "cell_type": "code",
      "metadata": {
        "id": "MK4fz_fYnLzH"
      },
      "source": [
        "# prepare detection and evaluation\r\n",
        "def dsfd_detector_eval(detector, annotations):\r\n",
        "  detections_list = []\r\n",
        "  for annotation_doc in annotations:\r\n",
        "    for annotation in annotation_doc['annotations']:\r\n",
        "      path_to_img = f\"{test_path}images/{annotation['filename']}\"\r\n",
        "      im = cv2.imread(path_to_img)\r\n",
        "      start = time.time()\r\n",
        "      bounding_boxes = detector.detect(im)\r\n",
        "      inference_time = time.time() - start\r\n",
        "      detection = {\r\n",
        "          'filename': path_to_img,\r\n",
        "          'inference_time': inference_time,\r\n",
        "          'faces': bounding_boxes\r\n",
        "      }\r\n",
        "      detections_list.append(detection)\r\n",
        "  return detections_list"
      ],
      "execution_count": 13,
      "outputs": []
    },
    {
      "cell_type": "markdown",
      "metadata": {
        "id": "lSNE7urkn1E-"
      },
      "source": [
        "**RetinaFace**"
      ]
    },
    {
      "cell_type": "code",
      "metadata": {
        "id": "I0qJqu3mn4Yv"
      },
      "source": [
        "# install retinaface\r\n",
        "!pip install retinaface-pytorch\r\n",
        "# Retinaface example\r\n",
        "from retinaface.pre_trained_models import get_model\r\n",
        "\r\n",
        "def retinaface_example_test(path_to_img=\"/content/drive/MyDrive/Datasets/FaceDetection/WIDERFace/test/images/22--Picnic/22_Picnic_Picnic_22_106.jpg\"):\r\n",
        "  model = get_model(\"resnet50_2020-07-20\", max_size=2048)\r\n",
        "  model.eval()\r\n",
        "  im = cv2.imread(path_to_img)\r\n",
        "  start = time.time()\r\n",
        "  detections = model.predict_jsons(im, confidence_threshold=.5, nms_threshold=0.3)\r\n",
        "  print(\"time: \", time.time() - start)\r\n",
        "  for rect in detections:\r\n",
        "    rectangle = rect['bbox']\r\n",
        "    cv2.rectangle(im, (int(rectangle[0]), int(rectangle[1])), (int(rectangle[2]), int(rectangle[3])), (0,0,190), 2)\r\n",
        "  cv2_imshow(im)"
      ],
      "execution_count": null,
      "outputs": []
    },
    {
      "cell_type": "code",
      "metadata": {
        "id": "8b2V-w8XomRU"
      },
      "source": [
        "retinaface_example_test()"
      ],
      "execution_count": null,
      "outputs": []
    },
    {
      "cell_type": "markdown",
      "metadata": {
        "id": "Vk1BmIRUMOkn"
      },
      "source": [
        "# Load dataset"
      ]
    },
    {
      "cell_type": "code",
      "metadata": {
        "id": "Uw4mspgw0wsM"
      },
      "source": [
        "ROOT = '/content/drive/MyDrive/Datasets/FaceDetection/'\r\n",
        "\r\n",
        "\r\n",
        "#default: load rectangles list\r\n",
        "def load_annotations(path, atype='rectangle'):\r\n",
        "  filenames = []\r\n",
        "  annotations = []\r\n",
        "  for filename in os.listdir(path):\r\n",
        "    if filename.__contains__(atype):\r\n",
        "      filenames.append(filename)\r\n",
        "  for filename in filenames:\r\n",
        "    raw = open(path + filename)\r\n",
        "    doc = {\r\n",
        "        'annotations_filename': filename,\r\n",
        "        'annotations': json.loads(raw.read())\r\n",
        "    }\r\n",
        "    annotations.append(doc)\r\n",
        "    raw.close()\r\n",
        "  return annotations"
      ],
      "execution_count": 2,
      "outputs": []
    },
    {
      "cell_type": "markdown",
      "metadata": {
        "id": "Q2PkdVI3pv-n"
      },
      "source": [
        "**Load WiderFace**"
      ]
    },
    {
      "cell_type": "code",
      "metadata": {
        "id": "yDbvL7cVp0PX"
      },
      "source": [
        "DATASET = \"WIDERFace\"\r\n",
        "##########################################################################\r\n",
        "DATASET_PATH = f\"{ROOT}{DATASET}/\"\r\n",
        "train_path = f\"{DATASET_PATH}train/\"\r\n",
        "test_path = f\"{DATASET_PATH}test/\"\r\n"
      ],
      "execution_count": null,
      "outputs": []
    },
    {
      "cell_type": "markdown",
      "metadata": {
        "id": "NJIUO9GEp0ki"
      },
      "source": [
        "**Load FDDB**"
      ]
    },
    {
      "cell_type": "code",
      "metadata": {
        "id": "PIfO-Oimp3Sv"
      },
      "source": [
        "DATASET = \"FDDB\"\r\n",
        "##########################################################################\r\n",
        "DATASET_PATH = f\"{ROOT}{DATASET}/\"\r\n",
        "train_path = f\"{DATASET_PATH}train/\"\r\n",
        "test_path = f\"{DATASET_PATH}test/\"\r\n",
        "annotations = load_annotations(test_path + \"annotations/\")\r\n",
        "# img_path = test_path + annotations[0]['annotations'][0]['filename'] + '.jpg' # example img\r\n"
      ],
      "execution_count": null,
      "outputs": []
    },
    {
      "cell_type": "markdown",
      "metadata": {
        "id": "enpD_katp3gy"
      },
      "source": [
        "**Load Pascal Face**"
      ]
    },
    {
      "cell_type": "code",
      "metadata": {
        "id": "Hd5KJMYeqA69"
      },
      "source": [
        "DATASET = \"PascalFace\"\r\n",
        "##########################################################################\r\n",
        "DATASET_PATH = f\"{ROOT}{DATASET}/\"\r\n",
        "train_path = f\"{DATASET_PATH}train/\"\r\n",
        "test_path = f\"{DATASET_PATH}test/\"\r\n",
        "annotations = load_annotations(f\"{test_path}annotations/\")"
      ],
      "execution_count": null,
      "outputs": []
    },
    {
      "cell_type": "markdown",
      "metadata": {
        "id": "ovg83Ml1yMvc"
      },
      "source": [
        "# Test Algorithms"
      ]
    },
    {
      "cell_type": "markdown",
      "metadata": {
        "id": "7rmTMdRndqJr"
      },
      "source": [
        "**TinaFace**"
      ]
    },
    {
      "cell_type": "code",
      "metadata": {
        "id": "pVPPqp-vmELV"
      },
      "source": [
        "# load model\r\n",
        "import torch\r\n",
        "tinaface_path = \"/content/drive/MyDrive/Models/FaceDetection/Tinaface_r50_fpn_widerface.pth\"\r\n",
        "model = torch.load(tinaface_path)\r\n",
        "print(model.keys())"
      ],
      "execution_count": null,
      "outputs": []
    },
    {
      "cell_type": "markdown",
      "metadata": {
        "id": "L43hlvwdds7k"
      },
      "source": [
        "**DSFD**"
      ]
    },
    {
      "cell_type": "code",
      "metadata": {
        "id": "iKKVGikRu9F-"
      },
      "source": [
        "import numpy as np\r\n",
        "import json\r\n",
        "\r\n",
        "def evaluate_and_write_to_file():\r\n",
        "  # prepare detector\r\n",
        "  detector = face_detection.build_detector(\"DSFDDetector\", confidence_threshold=.5, nms_iou_threshold=.3)\r\n",
        "  detections_list = dsfd_detector_eval(detector, annotations)\r\n",
        "  for detection in detections_list:\r\n",
        "    detection['faces'] = [l.tolist() for l in detection['faces']]\r\n",
        "\r\n",
        "  mean_time = np.mean([detection['inference_time'] for detection in detections_list])\r\n",
        "\r\n",
        "  dsfd_evaluation = {\r\n",
        "      'dataset': 'Pascal Face',\r\n",
        "      'algorithm': 'DSFD', \r\n",
        "      'mean_time': mean_time,\r\n",
        "      'detections': detections_list\r\n",
        "  }\r\n",
        "\r\n",
        "  eval_pascal_dsfd = open('evaluation of DSFD on Pascal Face.json', 'w')\r\n",
        "  eval_pascal_dsfd.write(json.dumps(dsfd_evaluation))\r\n",
        "\r\n",
        "evaluate_and_write_to_file()"
      ],
      "execution_count": null,
      "outputs": []
    }
  ]
}