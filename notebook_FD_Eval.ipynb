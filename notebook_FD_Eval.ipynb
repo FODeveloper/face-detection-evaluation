{
  "nbformat": 4,
  "nbformat_minor": 0,
  "metadata": {
    "colab": {
      "name": "notebook-FD-Eval",
      "provenance": [],
      "collapsed_sections": [],
      "toc_visible": true,
      "include_colab_link": true
    },
    "kernelspec": {
      "display_name": "Python 3",
      "name": "python3"
    }
  },
  "cells": [
    {
      "cell_type": "markdown",
      "metadata": {
        "id": "view-in-github",
        "colab_type": "text"
      },
      "source": [
        "<a href=\"https://colab.research.google.com/github/fatehOurghi/face-detection-evaluation/blob/main/notebook_FD_Eval.ipynb\" target=\"_parent\"><img src=\"https://colab.research.google.com/assets/colab-badge.svg\" alt=\"Open In Colab\"/></a>"
      ]
    },
    {
      "cell_type": "markdown",
      "metadata": {
        "id": "AvRA8rWL9-ln"
      },
      "source": [
        "# Evaluation of face detection algorithms"
      ]
    },
    {
      "cell_type": "markdown",
      "metadata": {
        "id": "5fCEDCU_qrC0"
      },
      "source": [
        "This colab notebook will be used to evaluate different face detection algorithms including:\n",
        "1.   TinaFace (best of Wider Face)\n",
        "2.   DSFD (best of FDDB)\n",
        "3.   SRN (best of Pascal Face)\n",
        "---\n",
        "Datasets used in this evaluation are:\n",
        "*   Wider Face\n",
        "*   FDDB\n",
        "*   Pascal Face"
      ]
    },
    {
      "cell_type": "markdown",
      "metadata": {
        "id": "7zK8UYp9Hplf"
      },
      "source": [
        "**Machine configurations**"
      ]
    },
    {
      "cell_type": "code",
      "metadata": {
        "colab": {
          "base_uri": "https://localhost:8080/"
        },
        "id": "BeMYPWVjHvvQ",
        "outputId": "a45568cf-4ff1-4dcf-cd7e-996adb024219"
      },
      "source": [
        "!lsh"
      ],
      "execution_count": null,
      "outputs": [
        {
          "output_type": "stream",
          "text": [
            "/bin/bash: lsh: command not found\n"
          ],
          "name": "stdout"
        }
      ]
    },
    {
      "cell_type": "markdown",
      "metadata": {
        "id": "Lw0ZuRArzJ5G"
      },
      "source": [
        "# Mount google drive"
      ]
    },
    {
      "cell_type": "code",
      "metadata": {
        "id": "piikCXFdzi8a",
        "colab": {
          "base_uri": "https://localhost:8080/"
        },
        "outputId": "1a7a1881-ba0d-4209-cef0-bc1e9fc0a5a4"
      },
      "source": [
        "from google.colab import drive\n",
        "drive.mount('/content/drive')"
      ],
      "execution_count": null,
      "outputs": [
        {
          "output_type": "stream",
          "text": [
            "Mounted at /content/drive\n"
          ],
          "name": "stdout"
        }
      ]
    },
    {
      "cell_type": "markdown",
      "metadata": {
        "id": "JkYrJ9t35xqv"
      },
      "source": [
        "# Datasets Preparation"
      ]
    },
    {
      "cell_type": "markdown",
      "metadata": {
        "id": "DuSCJw2jqif2"
      },
      "source": [
        "**Extract downloaded *Wider face* dataset**"
      ]
    },
    {
      "cell_type": "code",
      "metadata": {
        "id": "dVdkJk_z53u5"
      },
      "source": [
        "# Extract train data\r\n",
        "import zipfile\r\n",
        "dataset_path = \"/content/drive/MyDrive/Datasets/FaceDetection/WiderFace/WIDER_train.zip\"\r\n",
        "unzip_to = \"/content/drive/MyDrive/Datasets/WIDER_train\"\r\n",
        "\r\n",
        "with zipfile.ZipFile(dataset_path, 'r') as zip_ref:\r\n",
        "    zip_ref.extractall(unzip_to)"
      ],
      "execution_count": null,
      "outputs": []
    },
    {
      "cell_type": "code",
      "metadata": {
        "id": "1RsZVnBclTxD"
      },
      "source": [
        "# Extract test data\r\n",
        "import zipfile\r\n",
        "dataset_path = \"/content/drive/MyDrive/Datasets/FaceDetection/WIDERFace/WIDER_test.zip\"\r\n",
        "unzip_to = \"/content/drive/MyDrive/Datasets/FaceDetection/WIDERFace/test\"\r\n",
        "\r\n",
        "with zipfile.ZipFile(dataset_path, 'r') as zip_ref:\r\n",
        "    zip_ref.extractall(unzip_to)"
      ],
      "execution_count": null,
      "outputs": []
    },
    {
      "cell_type": "code",
      "metadata": {
        "id": "bo_wHFssroF6"
      },
      "source": [
        "# Download dataset face annotations\r\n",
        "!wget http://mmlab.ie.cuhk.edu.hk/projects/WIDERFace/support/bbx_annotation/wider_face_split.zip"
      ],
      "execution_count": null,
      "outputs": []
    },
    {
      "cell_type": "code",
      "metadata": {
        "id": "pcRBMfzSKk9h"
      },
      "source": [
        "# extract annotations\r\n",
        "!unzip -q /content/drive/MyDrive/Datasets/FaceDetection/WIDERFace/wider_face_split.zip"
      ],
      "execution_count": null,
      "outputs": []
    },
    {
      "cell_type": "markdown",
      "metadata": {
        "id": "VRJFnia5_Cmf"
      },
      "source": [
        "**Download of FDDB dataset**"
      ]
    },
    {
      "cell_type": "code",
      "metadata": {
        "id": "Bu-idYpU_CFE"
      },
      "source": [
        "!wget http://vis-www.cs.umass.edu/fddb/originalPics.tar.gz"
      ],
      "execution_count": null,
      "outputs": []
    },
    {
      "cell_type": "code",
      "metadata": {
        "id": "6SwM9uOumHpV"
      },
      "source": [
        "!wget http://vis-www.cs.umass.edu/fddb/FDDB-folds.tgz"
      ],
      "execution_count": null,
      "outputs": []
    },
    {
      "cell_type": "markdown",
      "metadata": {
        "id": "2kb43wH0J0hg"
      },
      "source": [
        "**Extract FDDB dataset**\r\n",
        "\r\n",
        "\r\n"
      ]
    },
    {
      "cell_type": "code",
      "metadata": {
        "id": "6Hu6n5VWJ4Or"
      },
      "source": [
        "# extract dataset\r\n",
        "!tar -zxvf /content/drive/MyDrive/Datasets/FaceDetection/PascalFace/caltech.tar.gz"
      ],
      "execution_count": null,
      "outputs": []
    },
    {
      "cell_type": "code",
      "metadata": {
        "id": "UbHaw3UyqugQ"
      },
      "source": [
        "# extract annotations\r\n",
        "!tar -zxvf /content/drive/MyDrive/Datasets/FaceDetection/FDDB/FDDB-folds.tgz"
      ],
      "execution_count": null,
      "outputs": []
    },
    {
      "cell_type": "markdown",
      "metadata": {
        "id": "h0jNiFODRIxJ"
      },
      "source": [
        "**Extract FDDB dataset**"
      ]
    },
    {
      "cell_type": "code",
      "metadata": {
        "id": "B6asljlsRMYF"
      },
      "source": [
        "!tar -zxvf /content/drive/MyDrive/Datasets/FaceDetection/FDDB/originalPics.tar.gz"
      ],
      "execution_count": null,
      "outputs": []
    },
    {
      "cell_type": "markdown",
      "metadata": {
        "id": "8e30Ge6ZmigS"
      },
      "source": [
        "**Download the Pascal Face dataset**"
      ]
    },
    {
      "cell_type": "code",
      "metadata": {
        "id": "SB3dDwvBnKTA"
      },
      "source": [
        "!wget http://host.robots.ox.ac.uk/pascal/VOC/download/caltech.tar.gz"
      ],
      "execution_count": null,
      "outputs": []
    },
    {
      "cell_type": "markdown",
      "metadata": {
        "id": "z7Za2tF7pWYG"
      },
      "source": [
        "# Initialize global variables"
      ]
    },
    {
      "cell_type": "code",
      "metadata": {
        "id": "os2TvCKapBCs"
      },
      "source": [
        "DATASET = \"WIDERFace\"\r\n",
        "##########################################################################\r\n",
        "DATASET_PATH = f\"/content/drive/MyDrive/Datasets/FaceDetection/{DATASET}/\"\r\n",
        "train_path = f\"{DATASET_PATH}train/\"\r\n",
        "test_path = f\"{DATASET_PATH}test/\""
      ],
      "execution_count": null,
      "outputs": []
    },
    {
      "cell_type": "markdown",
      "metadata": {
        "id": "Vk1BmIRUMOkn"
      },
      "source": [
        "# Load dataset"
      ]
    },
    {
      "cell_type": "code",
      "metadata": {
        "id": "y2zIWQMjMUhF"
      },
      "source": [
        ""
      ],
      "execution_count": null,
      "outputs": []
    },
    {
      "cell_type": "markdown",
      "metadata": {
        "id": "Q2PkdVI3pv-n"
      },
      "source": [
        "**Load WiderFace**"
      ]
    },
    {
      "cell_type": "code",
      "metadata": {
        "id": "yDbvL7cVp0PX"
      },
      "source": [
        ""
      ],
      "execution_count": null,
      "outputs": []
    },
    {
      "cell_type": "markdown",
      "metadata": {
        "id": "NJIUO9GEp0ki"
      },
      "source": [
        "**Load FDDB**"
      ]
    },
    {
      "cell_type": "code",
      "metadata": {
        "id": "PIfO-Oimp3Sv"
      },
      "source": [
        ""
      ],
      "execution_count": null,
      "outputs": []
    },
    {
      "cell_type": "markdown",
      "metadata": {
        "id": "enpD_katp3gy"
      },
      "source": [
        "**Load Pascal Face**"
      ]
    },
    {
      "cell_type": "code",
      "metadata": {
        "id": "Hd5KJMYeqA69"
      },
      "source": [
        ""
      ],
      "execution_count": null,
      "outputs": []
    },
    {
      "cell_type": "markdown",
      "metadata": {
        "id": "ySWDtWWGMU2R"
      },
      "source": [
        "# Prepare dataset"
      ]
    },
    {
      "cell_type": "code",
      "metadata": {
        "id": "yU1_kNt2MYQG"
      },
      "source": [
        ""
      ],
      "execution_count": null,
      "outputs": []
    },
    {
      "cell_type": "markdown",
      "metadata": {
        "id": "wf92XZvwMYx3"
      },
      "source": [
        "# Test Algorithms"
      ]
    },
    {
      "cell_type": "code",
      "metadata": {
        "id": "3SRB2ijrMcio",
        "colab": {
          "base_uri": "https://localhost:8080/"
        },
        "outputId": "150497a1-e758-455a-fe2e-3d649075d7e5"
      },
      "source": [
        ""
      ],
      "execution_count": 23,
      "outputs": [
        {
          "output_type": "stream",
          "text": [
            "annotations  test  train\n"
          ],
          "name": "stdout"
        }
      ]
    }
  ]
}