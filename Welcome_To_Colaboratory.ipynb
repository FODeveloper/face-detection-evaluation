{
  "nbformat": 4,
  "nbformat_minor": 0,
  "metadata": {
    "colab": {
      "name": "Welcome To Colaboratory",
      "provenance": [],
      "collapsed_sections": [],
      "toc_visible": true,
      "include_colab_link": true
    },
    "kernelspec": {
      "display_name": "Python 3",
      "name": "python3"
    }
  },
  "cells": [
    {
      "cell_type": "markdown",
      "metadata": {
        "id": "view-in-github",
        "colab_type": "text"
      },
      "source": [
        "<a href=\"https://colab.research.google.com/github/fatehOurghi/face-detection-evaluation/blob/main/Welcome_To_Colaboratory.ipynb\" target=\"_parent\"><img src=\"https://colab.research.google.com/assets/colab-badge.svg\" alt=\"Open In Colab\"/></a>"
      ]
    },
    {
      "cell_type": "markdown",
      "metadata": {
        "id": "5fCEDCU_qrC0"
      },
      "source": [
        "This colab notebook will be used to evaluate different face detection algorithms including:\n",
        "1.   TinaFace (best of Wider Face)\n",
        "2.   DSFD (best of FDDB)\n",
        "3.   SRN (best of Pascal Face)\n",
        "---\n",
        "Datasets used in this evaluation are:\n",
        "*   Wider Face\n",
        "*   FDDB\n",
        "*   Pascal Face"
      ]
    },
    {
      "cell_type": "markdown",
      "metadata": {
        "id": "Lw0ZuRArzJ5G"
      },
      "source": [
        "# Mount google drive"
      ]
    },
    {
      "cell_type": "code",
      "metadata": {
        "id": "piikCXFdzi8a"
      },
      "source": [
        "from google.colab import drive\n",
        "drive.mount('/content/drive')"
      ],
      "execution_count": null,
      "outputs": []
    },
    {
      "cell_type": "code",
      "metadata": {
        "id": "aHPrxDvfzlep"
      },
      "source": [
        ""
      ],
      "execution_count": null,
      "outputs": []
    }
  ]
}